{
 "cells": [
  {
   "cell_type": "markdown",
   "id": "835ecab0-3e28-4442-8842-a91eea6a8ca1",
   "metadata": {},
   "source": [
    "# Data Science Tools and Ecosystem"
   ]
  },
  {
   "cell_type": "markdown",
   "id": "c879871d-153f-4dce-834a-402ed8dab9ae",
   "metadata": {},
   "source": [
    "## In this notebook, Data Science Tools and Ecosystem are summarizes"
   ]
  },
  {
   "cell_type": "markdown",
   "id": "d9778a6a-ce0e-4523-96f4-cd7145d1d206",
   "metadata": {},
   "source": [
    "## Some of the popular langauages that Data Scientist use are :\n",
    "1. Python\n",
    "2. R\n",
    "3. Julia"
   ]
  },
  {
   "cell_type": "markdown",
   "id": "83bcfca3-b9f3-4c6b-9009-527c4ebaf6fa",
   "metadata": {},
   "source": [
    "### Some commonly used libraries used by Data Scientists Include:\n",
    "1. Numpy\n",
    "2. Scipy\n",
    "3. Scikit-learn\n",
    "4. Pandas"
   ]
  },
  {
   "cell_type": "markdown",
   "id": "4f1c99c1-f6b3-40a4-a589-922729a7e2d7",
   "metadata": {},
   "source": [
    "|Data science|\n",
    "|-------------|\n",
    "|Jupyter Lab|\n",
    "|Jupyter Notebook|\n",
    "|Rstudio|"
   ]
  },
  {
   "cell_type": "markdown",
   "id": "ea327387-cdb5-457d-904a-b4b36590c094",
   "metadata": {},
   "source": [
    "### Below are a few examples of evaluating arithmetic expression in python"
   ]
  },
  {
   "cell_type": "code",
   "execution_count": 1,
   "id": "de6cd216-5dfb-4084-8397-09ca31eb5f36",
   "metadata": {},
   "outputs": [
    {
     "data": {
      "text/plain": [
       "17"
      ]
     },
     "execution_count": 1,
     "metadata": {},
     "output_type": "execute_result"
    }
   ],
   "source": [
    "# This is a simple arithmetic expression to multiply and then add intergers\n",
    "\n",
    "(3*4)+5"
   ]
  },
  {
   "cell_type": "code",
   "execution_count": 2,
   "id": "a5392adc-4680-497d-a62b-d6dfbb2246d0",
   "metadata": {},
   "outputs": [
    {
     "name": "stdout",
     "output_type": "stream",
     "text": [
      "200 minutes = 3 hours\n"
     ]
    }
   ],
   "source": [
    "### This will convert 200 minutes to hours by dividing by 60\n",
    "\n",
    "min_60 = 1\n",
    "hr_1 = 1\n",
    "if min_60 == hr_1:\n",
    " convert_200_min_to_hr = 200/60\n",
    "print(f'200 minutes = { int(convert_200_min_to_hr)} hours')"
   ]
  },
  {
   "cell_type": "markdown",
   "id": "65fab92d-4087-49b7-8bff-59ecd1de0c49",
   "metadata": {},
   "source": [
    "**Obejectives:**\n",
    "+ Jupyter notebook are used in data science for recording experiments and projects\n",
    "+ jupyter is compatible with many files and programming languages\n",
    "+ There are different ways to install and use jupyter notebook\n",
    "+ jupyter implements two process model with a kernel and client\n"
   ]
  },
  {
   "cell_type": "markdown",
   "id": "54859ab2-2478-4930-96d8-9b2dbb6b7b03",
   "metadata": {},
   "source": [
    "## Author\n",
    "Chukwunyere Ebubechukwu Glory"
   ]
  },
  {
   "cell_type": "code",
   "execution_count": null,
   "id": "1bc076e9-de2a-4820-b652-caa8071b114b",
   "metadata": {},
   "outputs": [],
   "source": []
  }
 ],
 "metadata": {
  "kernelspec": {
   "display_name": "Python 3 (ipykernel)",
   "language": "python",
   "name": "python3"
  },
  "language_info": {
   "codemirror_mode": {
    "name": "ipython",
    "version": 3
   },
   "file_extension": ".py",
   "mimetype": "text/x-python",
   "name": "python",
   "nbconvert_exporter": "python",
   "pygments_lexer": "ipython3",
   "version": "3.12.4"
  }
 },
 "nbformat": 4,
 "nbformat_minor": 5
}
