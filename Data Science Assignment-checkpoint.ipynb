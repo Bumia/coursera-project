{
 "cells": [
  {
   "cell_type": "markdown",
   "id": "a22c7436-fd0c-4a8c-9532-2f601b4f584c",
   "metadata": {},
   "source": [
    "### making a simple calulator"
   ]
  },
  {
   "cell_type": "code",
   "execution_count": 87,
   "id": "28630c17-9e52-4911-bbb4-0963d3a81c8c",
   "metadata": {},
   "outputs": [],
   "source": [
    "def simple_calculator(num1, num2, operator):\n",
    "    if operator == \"+\":\n",
    "     return (num1 + num2)\n",
    "    if operator ==\"-\":\n",
    "     return num1 - num2\n",
    "    if operator == \"*\":\n",
    "     return num1 * num2\n",
    "    elif operator == \"/\":\n",
    "     if num2 != 0:    ### if num2 is not equals to zero\n",
    "      return num1/num2\n",
    "     else:\n",
    "      return \"invalid_operation\""
   ]
  },
  {
   "cell_type": "code",
   "execution_count": 88,
   "id": "10f760d5-c210-4dac-9b78-4f25b71165c6",
   "metadata": {},
   "outputs": [
    {
     "name": "stdout",
     "output_type": "stream",
     "text": [
      "44\n",
      "-5\n",
      "220\n",
      "4.0\n",
      "invalid_operation\n"
     ]
    }
   ],
   "source": [
    "print(simple_calculator(23, 21, \"+\"))\n",
    "print(simple_calculator(10, 15, \"-\"))\n",
    "print(simple_calculator(11, 20, \"*\"))\n",
    "print(simple_calculator(20, 5, \"/\"))\n",
    "print(simple_calculator(4, 0,\"/\"))"
   ]
  },
  {
   "cell_type": "code",
   "execution_count": null,
   "id": "cdd6964e-a244-4975-b30f-0c27fd860270",
   "metadata": {},
   "outputs": [],
   "source": []
  },
  {
   "cell_type": "markdown",
   "id": "2336839d-6fd4-4638-b9ef-6b703e16e72d",
   "metadata": {},
   "source": [
    "### Counting frequency of words in a text"
   ]
  },
  {
   "cell_type": "code",
   "execution_count": 100,
   "id": "e6d794da-de41-4d9c-b152-bc906d56b3c2",
   "metadata": {},
   "outputs": [],
   "source": [
    "def word_counter(text):\n",
    "    word_freq = {}\n",
    "    text = (text).lower()\n",
    "    words = text.split()\n",
    "    for word in words:\n",
    "        word = word.replace(\".\",\"\")\n",
    "        if word in word_freq:\n",
    "         word_freq[word] = word_freq[word] +1\n",
    "        else:\n",
    "         word_freq[word] = 1\n",
    "    return word_freq\n",
    "        \n",
    "    "
   ]
  },
  {
   "cell_type": "code",
   "execution_count": 101,
   "id": "649616fe-3509-48f0-a546-763fe528d8c8",
   "metadata": {},
   "outputs": [],
   "source": [
    "my_sentence = \"Ebube is learning python and Ebube is doing well in python.\""
   ]
  },
  {
   "cell_type": "code",
   "execution_count": 102,
   "id": "7287cc7b-04e2-427b-b140-cee3c90d1ee7",
   "metadata": {},
   "outputs": [
    {
     "name": "stdout",
     "output_type": "stream",
     "text": [
      "{'my_sentence': 1}\n"
     ]
    }
   ],
   "source": [
    "\n",
    "sentence_dict = word_counter(\"my_sentence\")\n",
    "print(sentence_dict)"
   ]
  },
  {
   "cell_type": "code",
   "execution_count": null,
   "id": "cad6370a-a88e-4da1-bfd5-c053ce154ac2",
   "metadata": {},
   "outputs": [],
   "source": []
  },
  {
   "cell_type": "code",
   "execution_count": null,
   "id": "2036fb66-e26a-4825-98cf-4353297aa925",
   "metadata": {},
   "outputs": [],
   "source": []
  }
 ],
 "metadata": {
  "kernelspec": {
   "display_name": "Python 3 (ipykernel)",
   "language": "python",
   "name": "python3"
  },
  "language_info": {
   "codemirror_mode": {
    "name": "ipython",
    "version": 3
   },
   "file_extension": ".py",
   "mimetype": "text/x-python",
   "name": "python",
   "nbconvert_exporter": "python",
   "pygments_lexer": "ipython3",
   "version": "3.12.4"
  }
 },
 "nbformat": 4,
 "nbformat_minor": 5
}
